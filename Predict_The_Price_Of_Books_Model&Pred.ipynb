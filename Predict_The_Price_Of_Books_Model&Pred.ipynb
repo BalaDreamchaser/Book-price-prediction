{
  "cells": [
    {
      "cell_type": "code",
      "execution_count": null,
      "id": "d001b6cc",
      "metadata": {
        "id": "d001b6cc"
      },
      "outputs": [],
      "source": [
        "import pandas as pd"
      ]
    },
    {
      "cell_type": "code",
      "execution_count": null,
      "id": "e3e2b9e5",
      "metadata": {
        "id": "e3e2b9e5"
      },
      "outputs": [],
      "source": [
        "dfr = pd.read_excel('final_train.xlsx')"
      ]
    },
    {
      "cell_type": "code",
      "execution_count": null,
      "id": "c85c74cc",
      "metadata": {
        "id": "c85c74cc"
      },
      "outputs": [],
      "source": [
        "dfs = pd.read_excel('final_test.xlsx')"
      ]
    },
    {
      "cell_type": "code",
      "execution_count": null,
      "id": "15641b93",
      "metadata": {
        "id": "15641b93",
        "outputId": "5ccd5de4-cadb-4741-e9df-6771d6f1439f"
      },
      "outputs": [
        {
          "data": {
            "text/html": [
              "<div>\n",
              "<style scoped>\n",
              "    .dataframe tbody tr th:only-of-type {\n",
              "        vertical-align: middle;\n",
              "    }\n",
              "\n",
              "    .dataframe tbody tr th {\n",
              "        vertical-align: top;\n",
              "    }\n",
              "\n",
              "    .dataframe thead th {\n",
              "        text-align: right;\n",
              "    }\n",
              "</style>\n",
              "<table border=\"1\" class=\"dataframe\">\n",
              "  <thead>\n",
              "    <tr style=\"text-align: right;\">\n",
              "      <th></th>\n",
              "      <th>Rev</th>\n",
              "      <th>Year</th>\n",
              "      <th>booktype</th>\n",
              "      <th>bookcateg</th>\n",
              "      <th>Price</th>\n",
              "    </tr>\n",
              "  </thead>\n",
              "  <tbody>\n",
              "    <tr>\n",
              "      <th>0</th>\n",
              "      <td>4.0</td>\n",
              "      <td>2016</td>\n",
              "      <td>12</td>\n",
              "      <td>0</td>\n",
              "      <td>220.00</td>\n",
              "    </tr>\n",
              "    <tr>\n",
              "      <th>1</th>\n",
              "      <td>3.9</td>\n",
              "      <td>2012</td>\n",
              "      <td>12</td>\n",
              "      <td>2</td>\n",
              "      <td>202.93</td>\n",
              "    </tr>\n",
              "    <tr>\n",
              "      <th>2</th>\n",
              "      <td>4.8</td>\n",
              "      <td>1982</td>\n",
              "      <td>12</td>\n",
              "      <td>6</td>\n",
              "      <td>299.00</td>\n",
              "    </tr>\n",
              "    <tr>\n",
              "      <th>3</th>\n",
              "      <td>4.1</td>\n",
              "      <td>2017</td>\n",
              "      <td>12</td>\n",
              "      <td>5</td>\n",
              "      <td>180.00</td>\n",
              "    </tr>\n",
              "    <tr>\n",
              "      <th>4</th>\n",
              "      <td>5.0</td>\n",
              "      <td>2006</td>\n",
              "      <td>7</td>\n",
              "      <td>1</td>\n",
              "      <td>965.62</td>\n",
              "    </tr>\n",
              "  </tbody>\n",
              "</table>\n",
              "</div>"
            ],
            "text/plain": [
              "   Rev  Year  booktype  bookcateg   Price\n",
              "0  4.0  2016        12          0  220.00\n",
              "1  3.9  2012        12          2  202.93\n",
              "2  4.8  1982        12          6  299.00\n",
              "3  4.1  2017        12          5  180.00\n",
              "4  5.0  2006         7          1  965.62"
            ]
          },
          "execution_count": 124,
          "metadata": {},
          "output_type": "execute_result"
        }
      ],
      "source": [
        "dfr.head()"
      ]
    },
    {
      "cell_type": "code",
      "execution_count": null,
      "id": "6354d51d",
      "metadata": {
        "id": "6354d51d",
        "outputId": "ac21e952-b116-40df-d649-0365bb2ee96f"
      },
      "outputs": [
        {
          "data": {
            "text/plain": [
              "Rev          float64\n",
              "Year           int32\n",
              "booktype       int64\n",
              "bookcateg      int64\n",
              "Price        float64\n",
              "dtype: object"
            ]
          },
          "execution_count": 131,
          "metadata": {},
          "output_type": "execute_result"
        }
      ],
      "source": [
        "dfr.dtypes"
      ]
    },
    {
      "cell_type": "code",
      "execution_count": null,
      "id": "e338407a",
      "metadata": {
        "id": "e338407a",
        "outputId": "1bdff947-8d52-4486-863b-b884364a3f15"
      },
      "outputs": [
        {
          "data": {
            "text/plain": [
              "(6231, 5)"
            ]
          },
          "execution_count": 126,
          "metadata": {},
          "output_type": "execute_result"
        }
      ],
      "source": [
        "dfr.shape"
      ]
    },
    {
      "cell_type": "code",
      "execution_count": null,
      "id": "224f0e2c",
      "metadata": {
        "id": "224f0e2c",
        "outputId": "6a9bb044-6798-495f-ae6a-7a0f77d91a88"
      },
      "outputs": [
        {
          "data": {
            "text/plain": [
              "(1560, 4)"
            ]
          },
          "execution_count": 127,
          "metadata": {},
          "output_type": "execute_result"
        }
      ],
      "source": [
        "dfs.shape"
      ]
    },
    {
      "cell_type": "code",
      "execution_count": null,
      "id": "3f978d7e",
      "metadata": {
        "id": "3f978d7e"
      },
      "outputs": [],
      "source": [
        "dfr['Year'] = dfr['Year'].astype(int)"
      ]
    },
    {
      "cell_type": "code",
      "execution_count": null,
      "id": "aaf7b582",
      "metadata": {
        "id": "aaf7b582"
      },
      "outputs": [],
      "source": [
        "dfs['Year'] = dfs['Year'].astype(int)"
      ]
    },
    {
      "cell_type": "code",
      "execution_count": null,
      "id": "d98f3087",
      "metadata": {
        "id": "d98f3087"
      },
      "outputs": [],
      "source": [
        "x = dfr.iloc[:,:-1].values\n",
        "y = dfr.iloc[:,-1].values"
      ]
    },
    {
      "cell_type": "code",
      "execution_count": null,
      "id": "c3803ee0",
      "metadata": {
        "id": "c3803ee0",
        "outputId": "449eebc0-3b89-4920-f0a0-573207833e2f"
      },
      "outputs": [
        {
          "name": "stdout",
          "output_type": "stream",
          "text": [
            "Shape of x:  (6231, 4)\n",
            "Shape of y:  (6231,)\n"
          ]
        }
      ],
      "source": [
        "print(\"Shape of x: \", x.shape)\n",
        "print(\"Shape of y: \", y.shape)"
      ]
    },
    {
      "cell_type": "code",
      "execution_count": null,
      "id": "24514db8",
      "metadata": {
        "id": "24514db8"
      },
      "outputs": [],
      "source": [
        "# from sklearn.model_selection import train_test_split"
      ]
    },
    {
      "cell_type": "code",
      "execution_count": null,
      "id": "3b7f0a4a",
      "metadata": {
        "id": "3b7f0a4a"
      },
      "outputs": [],
      "source": [
        "# x_train,x_test,y_train,y_test = train_test_split(x,y,test_size = 0.2, random_state = 42)"
      ]
    },
    {
      "cell_type": "code",
      "execution_count": null,
      "id": "866e2344",
      "metadata": {
        "id": "866e2344"
      },
      "outputs": [],
      "source": [
        "# from sklearn.ensemble import GradientBoostingRegressor\n",
        "# from sklearn.metrics import r2_score\n",
        "# from sklearn.metrics import mean_squared_error\n",
        "# for GBoost (n_estimators = 100, max_depth = 5, min_samples_split = 2, learning_rate = 0.1)"
      ]
    },
    {
      "cell_type": "code",
      "execution_count": null,
      "id": "d2923bd2",
      "metadata": {
        "id": "d2923bd2"
      },
      "outputs": [],
      "source": [
        "from sklearn.ensemble import RandomForestRegressor\n",
        "from sklearn.metrics import r2_score\n",
        "from sklearn.metrics import mean_squared_error"
      ]
    },
    {
      "cell_type": "code",
      "execution_count": null,
      "id": "79ce75b2",
      "metadata": {
        "id": "79ce75b2"
      },
      "outputs": [],
      "source": [
        "model = RandomForestRegressor()"
      ]
    },
    {
      "cell_type": "code",
      "execution_count": null,
      "id": "e53f586f",
      "metadata": {
        "id": "e53f586f",
        "outputId": "60afb846-b1cc-42c1-fbf8-97f16d14fa53"
      },
      "outputs": [
        {
          "data": {
            "text/html": [
              "<style>#sk-container-id-3 {color: black;background-color: white;}#sk-container-id-3 pre{padding: 0;}#sk-container-id-3 div.sk-toggleable {background-color: white;}#sk-container-id-3 label.sk-toggleable__label {cursor: pointer;display: block;width: 100%;margin-bottom: 0;padding: 0.3em;box-sizing: border-box;text-align: center;}#sk-container-id-3 label.sk-toggleable__label-arrow:before {content: \"▸\";float: left;margin-right: 0.25em;color: #696969;}#sk-container-id-3 label.sk-toggleable__label-arrow:hover:before {color: black;}#sk-container-id-3 div.sk-estimator:hover label.sk-toggleable__label-arrow:before {color: black;}#sk-container-id-3 div.sk-toggleable__content {max-height: 0;max-width: 0;overflow: hidden;text-align: left;background-color: #f0f8ff;}#sk-container-id-3 div.sk-toggleable__content pre {margin: 0.2em;color: black;border-radius: 0.25em;background-color: #f0f8ff;}#sk-container-id-3 input.sk-toggleable__control:checked~div.sk-toggleable__content {max-height: 200px;max-width: 100%;overflow: auto;}#sk-container-id-3 input.sk-toggleable__control:checked~label.sk-toggleable__label-arrow:before {content: \"▾\";}#sk-container-id-3 div.sk-estimator input.sk-toggleable__control:checked~label.sk-toggleable__label {background-color: #d4ebff;}#sk-container-id-3 div.sk-label input.sk-toggleable__control:checked~label.sk-toggleable__label {background-color: #d4ebff;}#sk-container-id-3 input.sk-hidden--visually {border: 0;clip: rect(1px 1px 1px 1px);clip: rect(1px, 1px, 1px, 1px);height: 1px;margin: -1px;overflow: hidden;padding: 0;position: absolute;width: 1px;}#sk-container-id-3 div.sk-estimator {font-family: monospace;background-color: #f0f8ff;border: 1px dotted black;border-radius: 0.25em;box-sizing: border-box;margin-bottom: 0.5em;}#sk-container-id-3 div.sk-estimator:hover {background-color: #d4ebff;}#sk-container-id-3 div.sk-parallel-item::after {content: \"\";width: 100%;border-bottom: 1px solid gray;flex-grow: 1;}#sk-container-id-3 div.sk-label:hover label.sk-toggleable__label {background-color: #d4ebff;}#sk-container-id-3 div.sk-serial::before {content: \"\";position: absolute;border-left: 1px solid gray;box-sizing: border-box;top: 0;bottom: 0;left: 50%;z-index: 0;}#sk-container-id-3 div.sk-serial {display: flex;flex-direction: column;align-items: center;background-color: white;padding-right: 0.2em;padding-left: 0.2em;position: relative;}#sk-container-id-3 div.sk-item {position: relative;z-index: 1;}#sk-container-id-3 div.sk-parallel {display: flex;align-items: stretch;justify-content: center;background-color: white;position: relative;}#sk-container-id-3 div.sk-item::before, #sk-container-id-3 div.sk-parallel-item::before {content: \"\";position: absolute;border-left: 1px solid gray;box-sizing: border-box;top: 0;bottom: 0;left: 50%;z-index: -1;}#sk-container-id-3 div.sk-parallel-item {display: flex;flex-direction: column;z-index: 1;position: relative;background-color: white;}#sk-container-id-3 div.sk-parallel-item:first-child::after {align-self: flex-end;width: 50%;}#sk-container-id-3 div.sk-parallel-item:last-child::after {align-self: flex-start;width: 50%;}#sk-container-id-3 div.sk-parallel-item:only-child::after {width: 0;}#sk-container-id-3 div.sk-dashed-wrapped {border: 1px dashed gray;margin: 0 0.4em 0.5em 0.4em;box-sizing: border-box;padding-bottom: 0.4em;background-color: white;}#sk-container-id-3 div.sk-label label {font-family: monospace;font-weight: bold;display: inline-block;line-height: 1.2em;}#sk-container-id-3 div.sk-label-container {text-align: center;}#sk-container-id-3 div.sk-container {/* jupyter's `normalize.less` sets `[hidden] { display: none; }` but bootstrap.min.css set `[hidden] { display: none !important; }` so we also need the `!important` here to be able to override the default hidden behavior on the sphinx rendered scikit-learn.org. See: https://github.com/scikit-learn/scikit-learn/issues/21755 */display: inline-block !important;position: relative;}#sk-container-id-3 div.sk-text-repr-fallback {display: none;}</style><div id=\"sk-container-id-3\" class=\"sk-top-container\"><div class=\"sk-text-repr-fallback\"><pre>RandomForestRegressor()</pre><b>In a Jupyter environment, please rerun this cell to show the HTML representation or trust the notebook. <br />On GitHub, the HTML representation is unable to render, please try loading this page with nbviewer.org.</b></div><div class=\"sk-container\" hidden><div class=\"sk-item\"><div class=\"sk-estimator sk-toggleable\"><input class=\"sk-toggleable__control sk-hidden--visually\" id=\"sk-estimator-id-3\" type=\"checkbox\" checked><label for=\"sk-estimator-id-3\" class=\"sk-toggleable__label sk-toggleable__label-arrow\">RandomForestRegressor</label><div class=\"sk-toggleable__content\"><pre>RandomForestRegressor()</pre></div></div></div></div></div>"
            ],
            "text/plain": [
              "RandomForestRegressor()"
            ]
          },
          "execution_count": 161,
          "metadata": {},
          "output_type": "execute_result"
        }
      ],
      "source": [
        "model.fit(x,y)"
      ]
    },
    {
      "cell_type": "code",
      "execution_count": null,
      "id": "ba83dc9c",
      "metadata": {
        "id": "ba83dc9c"
      },
      "outputs": [],
      "source": [
        "x_test = dfs.iloc[:].values"
      ]
    },
    {
      "cell_type": "code",
      "execution_count": null,
      "id": "8844b212",
      "metadata": {
        "id": "8844b212"
      },
      "outputs": [],
      "source": [
        "y_pred = model.predict(x_test)"
      ]
    },
    {
      "cell_type": "code",
      "execution_count": null,
      "id": "a42acc18",
      "metadata": {
        "id": "a42acc18",
        "outputId": "45a99147-4124-43e9-f6dc-2347e9cffe3f"
      },
      "outputs": [
        {
          "data": {
            "text/plain": [
              "array([3427.7502    , 1518.72020302, 2211.39500952, ...,  708.3132    ,\n",
              "        565.5523    ,  473.30925833])"
            ]
          },
          "execution_count": 166,
          "metadata": {},
          "output_type": "execute_result"
        }
      ],
      "source": [
        "y_pred"
      ]
    },
    {
      "cell_type": "code",
      "execution_count": null,
      "id": "39ce5e48",
      "metadata": {
        "id": "39ce5e48"
      },
      "outputs": [],
      "source": [
        "output = pd.DataFrame({'Price':y_pred})"
      ]
    },
    {
      "cell_type": "code",
      "execution_count": null,
      "id": "cec298a7",
      "metadata": {
        "id": "cec298a7"
      },
      "outputs": [],
      "source": [
        "output.to_csv('submission.csv',header=True)"
      ]
    },
    {
      "cell_type": "code",
      "execution_count": null,
      "id": "b4c25379",
      "metadata": {
        "id": "b4c25379",
        "outputId": "07374eaa-4cbd-4c6b-cd87-db69a4503e7d"
      },
      "outputs": [
        {
          "data": {
            "text/plain": [
              "(1560, 1)"
            ]
          },
          "execution_count": 169,
          "metadata": {},
          "output_type": "execute_result"
        }
      ],
      "source": [
        "output.shape"
      ]
    },
    {
      "cell_type": "code",
      "execution_count": null,
      "id": "88c53d26",
      "metadata": {
        "id": "88c53d26"
      },
      "outputs": [],
      "source": []
    }
  ],
  "metadata": {
    "kernelspec": {
      "display_name": "Python 3 (ipykernel)",
      "language": "python",
      "name": "python3"
    },
    "language_info": {
      "codemirror_mode": {
        "name": "ipython",
        "version": 3
      },
      "file_extension": ".py",
      "mimetype": "text/x-python",
      "name": "python",
      "nbconvert_exporter": "python",
      "pygments_lexer": "ipython3",
      "version": "3.10.9"
    },
    "colab": {
      "provenance": []
    }
  },
  "nbformat": 4,
  "nbformat_minor": 5
}